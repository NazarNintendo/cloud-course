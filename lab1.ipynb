{
 "cells": [
  {
   "cell_type": "code",
   "execution_count": 1,
   "metadata": {
    "collapsed": true
   },
   "outputs": [
    {
     "name": "stdout",
     "output_type": "stream",
     "text": [
      "Collecting google-cloud-bigquery\n",
      "  Downloading google_cloud_bigquery-3.19.0-py2.py3-none-any.whl.metadata (8.9 kB)\n",
      "Collecting google-api-core!=2.0.*,!=2.1.*,!=2.10.*,!=2.2.*,!=2.3.*,!=2.4.*,!=2.5.*,!=2.6.*,!=2.7.*,!=2.8.*,!=2.9.*,<3.0.0dev,>=1.34.1 (from google-api-core[grpc]!=2.0.*,!=2.1.*,!=2.10.*,!=2.2.*,!=2.3.*,!=2.4.*,!=2.5.*,!=2.6.*,!=2.7.*,!=2.8.*,!=2.9.*,<3.0.0dev,>=1.34.1->google-cloud-bigquery)\n",
      "  Downloading google_api_core-2.18.0-py3-none-any.whl.metadata (2.7 kB)\n",
      "Collecting google-auth<3.0.0dev,>=2.14.1 (from google-cloud-bigquery)\n",
      "  Downloading google_auth-2.29.0-py2.py3-none-any.whl.metadata (4.7 kB)\n",
      "Collecting google-cloud-core<3.0.0dev,>=1.6.0 (from google-cloud-bigquery)\n",
      "  Downloading google_cloud_core-2.4.1-py2.py3-none-any.whl.metadata (2.7 kB)\n",
      "Collecting google-resumable-media<3.0dev,>=0.6.0 (from google-cloud-bigquery)\n",
      "  Downloading google_resumable_media-2.7.0-py2.py3-none-any.whl.metadata (2.2 kB)\n",
      "Requirement already satisfied: packaging>=20.0.0 in c:\\users\\user\\projects\\home\\cloud-course\\venv\\lib\\site-packages (from google-cloud-bigquery) (24.0)\n",
      "Requirement already satisfied: python-dateutil<3.0dev,>=2.7.2 in c:\\users\\user\\projects\\home\\cloud-course\\venv\\lib\\site-packages (from google-cloud-bigquery) (2.9.0.post0)\n",
      "Requirement already satisfied: requests<3.0.0dev,>=2.21.0 in c:\\users\\user\\projects\\home\\cloud-course\\venv\\lib\\site-packages (from google-cloud-bigquery) (2.31.0)\n",
      "Collecting googleapis-common-protos<2.0.dev0,>=1.56.2 (from google-api-core!=2.0.*,!=2.1.*,!=2.10.*,!=2.2.*,!=2.3.*,!=2.4.*,!=2.5.*,!=2.6.*,!=2.7.*,!=2.8.*,!=2.9.*,<3.0.0dev,>=1.34.1->google-api-core[grpc]!=2.0.*,!=2.1.*,!=2.10.*,!=2.2.*,!=2.3.*,!=2.4.*,!=2.5.*,!=2.6.*,!=2.7.*,!=2.8.*,!=2.9.*,<3.0.0dev,>=1.34.1->google-cloud-bigquery)\n",
      "  Downloading googleapis_common_protos-1.63.0-py2.py3-none-any.whl.metadata (1.5 kB)\n",
      "Collecting protobuf!=3.20.0,!=3.20.1,!=4.21.0,!=4.21.1,!=4.21.2,!=4.21.3,!=4.21.4,!=4.21.5,<5.0.0.dev0,>=3.19.5 (from google-api-core!=2.0.*,!=2.1.*,!=2.10.*,!=2.2.*,!=2.3.*,!=2.4.*,!=2.5.*,!=2.6.*,!=2.7.*,!=2.8.*,!=2.9.*,<3.0.0dev,>=1.34.1->google-api-core[grpc]!=2.0.*,!=2.1.*,!=2.10.*,!=2.2.*,!=2.3.*,!=2.4.*,!=2.5.*,!=2.6.*,!=2.7.*,!=2.8.*,!=2.9.*,<3.0.0dev,>=1.34.1->google-cloud-bigquery)\n",
      "  Downloading protobuf-4.25.3-cp310-abi3-win_amd64.whl.metadata (541 bytes)\n",
      "Collecting proto-plus<2.0.0dev,>=1.22.3 (from google-api-core!=2.0.*,!=2.1.*,!=2.10.*,!=2.2.*,!=2.3.*,!=2.4.*,!=2.5.*,!=2.6.*,!=2.7.*,!=2.8.*,!=2.9.*,<3.0.0dev,>=1.34.1->google-api-core[grpc]!=2.0.*,!=2.1.*,!=2.10.*,!=2.2.*,!=2.3.*,!=2.4.*,!=2.5.*,!=2.6.*,!=2.7.*,!=2.8.*,!=2.9.*,<3.0.0dev,>=1.34.1->google-cloud-bigquery)\n",
      "  Downloading proto_plus-1.23.0-py3-none-any.whl.metadata (2.2 kB)\n",
      "Collecting grpcio<2.0dev,>=1.33.2 (from google-api-core[grpc]!=2.0.*,!=2.1.*,!=2.10.*,!=2.2.*,!=2.3.*,!=2.4.*,!=2.5.*,!=2.6.*,!=2.7.*,!=2.8.*,!=2.9.*,<3.0.0dev,>=1.34.1->google-cloud-bigquery)\n",
      "  Downloading grpcio-1.62.1-cp310-cp310-win_amd64.whl.metadata (4.2 kB)\n",
      "Collecting grpcio-status<2.0.dev0,>=1.33.2 (from google-api-core[grpc]!=2.0.*,!=2.1.*,!=2.10.*,!=2.2.*,!=2.3.*,!=2.4.*,!=2.5.*,!=2.6.*,!=2.7.*,!=2.8.*,!=2.9.*,<3.0.0dev,>=1.34.1->google-cloud-bigquery)\n",
      "  Downloading grpcio_status-1.62.1-py3-none-any.whl.metadata (1.3 kB)\n",
      "Collecting cachetools<6.0,>=2.0.0 (from google-auth<3.0.0dev,>=2.14.1->google-cloud-bigquery)\n",
      "  Downloading cachetools-5.3.3-py3-none-any.whl.metadata (5.3 kB)\n",
      "Collecting pyasn1-modules>=0.2.1 (from google-auth<3.0.0dev,>=2.14.1->google-cloud-bigquery)\n",
      "  Downloading pyasn1_modules-0.3.0-py2.py3-none-any.whl.metadata (3.6 kB)\n",
      "Collecting rsa<5,>=3.1.4 (from google-auth<3.0.0dev,>=2.14.1->google-cloud-bigquery)\n",
      "  Downloading rsa-4.9-py3-none-any.whl.metadata (4.2 kB)\n",
      "Collecting google-crc32c<2.0dev,>=1.0 (from google-resumable-media<3.0dev,>=0.6.0->google-cloud-bigquery)\n",
      "  Downloading google_crc32c-1.5.0-cp310-cp310-win_amd64.whl.metadata (2.3 kB)\n",
      "Requirement already satisfied: six>=1.5 in c:\\users\\user\\projects\\home\\cloud-course\\venv\\lib\\site-packages (from python-dateutil<3.0dev,>=2.7.2->google-cloud-bigquery) (1.16.0)\n",
      "Requirement already satisfied: charset-normalizer<4,>=2 in c:\\users\\user\\projects\\home\\cloud-course\\venv\\lib\\site-packages (from requests<3.0.0dev,>=2.21.0->google-cloud-bigquery) (3.3.2)\n",
      "Requirement already satisfied: idna<4,>=2.5 in c:\\users\\user\\projects\\home\\cloud-course\\venv\\lib\\site-packages (from requests<3.0.0dev,>=2.21.0->google-cloud-bigquery) (3.6)\n",
      "Requirement already satisfied: urllib3<3,>=1.21.1 in c:\\users\\user\\projects\\home\\cloud-course\\venv\\lib\\site-packages (from requests<3.0.0dev,>=2.21.0->google-cloud-bigquery) (2.2.1)\n",
      "Requirement already satisfied: certifi>=2017.4.17 in c:\\users\\user\\projects\\home\\cloud-course\\venv\\lib\\site-packages (from requests<3.0.0dev,>=2.21.0->google-cloud-bigquery) (2024.2.2)\n",
      "Collecting pyasn1<0.6.0,>=0.4.6 (from pyasn1-modules>=0.2.1->google-auth<3.0.0dev,>=2.14.1->google-cloud-bigquery)\n",
      "  Using cached pyasn1-0.5.1-py2.py3-none-any.whl.metadata (8.6 kB)\n",
      "Downloading google_cloud_bigquery-3.19.0-py2.py3-none-any.whl (232 kB)\n",
      "   ---------------------------------------- 0.0/232.6 kB ? eta -:--:--\n",
      "   --------------- ------------------------ 92.2/232.6 kB 2.6 MB/s eta 0:00:01\n",
      "   ---------------------------------------- 232.6/232.6 kB 3.6 MB/s eta 0:00:00\n",
      "Downloading google_api_core-2.18.0-py3-none-any.whl (138 kB)\n",
      "   ---------------------------------------- 0.0/138.3 kB ? eta -:--:--\n",
      "   ---------------------------------------- 138.3/138.3 kB 8.0 MB/s eta 0:00:00\n",
      "Downloading google_auth-2.29.0-py2.py3-none-any.whl (189 kB)\n",
      "   ---------------------------------------- 0.0/189.2 kB ? eta -:--:--\n",
      "   --------------------------------------- 189.2/189.2 kB 11.2 MB/s eta 0:00:00\n",
      "Downloading google_cloud_core-2.4.1-py2.py3-none-any.whl (29 kB)\n",
      "Downloading google_resumable_media-2.7.0-py2.py3-none-any.whl (80 kB)\n",
      "   ---------------------------------------- 0.0/80.6 kB ? eta -:--:--\n",
      "   ---------------------------------------- 80.6/80.6 kB ? eta 0:00:00\n",
      "Downloading cachetools-5.3.3-py3-none-any.whl (9.3 kB)\n",
      "Downloading google_crc32c-1.5.0-cp310-cp310-win_amd64.whl (27 kB)\n",
      "Downloading googleapis_common_protos-1.63.0-py2.py3-none-any.whl (229 kB)\n",
      "   ---------------------------------------- 0.0/229.1 kB ? eta -:--:--\n",
      "   --------------------------------------- 229.1/229.1 kB 13.7 MB/s eta 0:00:00\n",
      "Downloading grpcio-1.62.1-cp310-cp310-win_amd64.whl (3.8 MB)\n",
      "   ---------------------------------------- 0.0/3.8 MB ? eta -:--:--\n",
      "   -------- ------------------------------- 0.8/3.8 MB 16.3 MB/s eta 0:00:01\n",
      "   ------------------------------ --------- 2.9/3.8 MB 31.0 MB/s eta 0:00:01\n",
      "   ---------------------------------------- 3.8/3.8 MB 30.3 MB/s eta 0:00:00\n",
      "Downloading grpcio_status-1.62.1-py3-none-any.whl (14 kB)\n",
      "Downloading proto_plus-1.23.0-py3-none-any.whl (48 kB)\n",
      "   ---------------------------------------- 0.0/48.8 kB ? eta -:--:--\n",
      "   ---------------------------------------- 48.8/48.8 kB ? eta 0:00:00\n",
      "Downloading protobuf-4.25.3-cp310-abi3-win_amd64.whl (413 kB)\n",
      "   ---------------------------------------- 0.0/413.4 kB ? eta -:--:--\n",
      "   ---------------------------------------- 413.4/413.4 kB ? eta 0:00:00\n",
      "Downloading pyasn1_modules-0.3.0-py2.py3-none-any.whl (181 kB)\n",
      "   ---------------------------------------- 0.0/181.3 kB ? eta -:--:--\n",
      "   ---------------------------------------- 181.3/181.3 kB ? eta 0:00:00\n",
      "Using cached rsa-4.9-py3-none-any.whl (34 kB)\n",
      "Using cached pyasn1-0.5.1-py2.py3-none-any.whl (84 kB)\n",
      "Installing collected packages: pyasn1, protobuf, grpcio, google-crc32c, cachetools, rsa, pyasn1-modules, proto-plus, googleapis-common-protos, google-resumable-media, grpcio-status, google-auth, google-api-core, google-cloud-core, google-cloud-bigquery\n",
      "Successfully installed cachetools-5.3.3 google-api-core-2.18.0 google-auth-2.29.0 google-cloud-bigquery-3.19.0 google-cloud-core-2.4.1 google-crc32c-1.5.0 google-resumable-media-2.7.0 googleapis-common-protos-1.63.0 grpcio-1.62.1 grpcio-status-1.62.1 proto-plus-1.23.0 protobuf-4.25.3 pyasn1-0.5.1 pyasn1-modules-0.3.0 rsa-4.9\n",
      "Note: you may need to restart the kernel to use updated packages.\n"
     ]
    }
   ],
   "source": [
    "  pip install google-cloud-bigquery"
   ]
  },
  {
   "cell_type": "code",
   "execution_count": 2,
   "outputs": [],
   "source": [
    "from google.cloud import bigquery\n",
    "\n",
    "client = bigquery.Client(project='nk-cloud-course-iav-21')"
   ],
   "metadata": {
    "collapsed": false
   }
  },
  {
   "cell_type": "code",
   "execution_count": 6,
   "outputs": [],
   "source": [
    "table_ref = client.dataset('food_delivery').table('courier_actions')\n",
    "job_config = bigquery.LoadJobConfig()\n",
    "job_config.source_format = bigquery.SourceFormat.CSV\n",
    "job_config.skip_leading_rows = 1\n",
    "job_config.schema = [\n",
    "    bigquery.SchemaField('courier_id', 'INTEGER', 'REQUIRED'),\n",
    "    bigquery.SchemaField('order_id', 'INTEGER', 'REQUIRED'),\n",
    "    bigquery.SchemaField('action', 'STRING', 'REQUIRED'),\n",
    "    bigquery.SchemaField('time', 'DATETIME', 'REQUIRED'),\n",
    "]\n",
    "with open('data_lab_1/courier_actions.csv', 'rb') as source_file:\n",
    "    client.load_table_from_file(\n",
    "        source_file, table_ref, job_config=job_config)"
   ],
   "metadata": {
    "collapsed": false
   }
  },
  {
   "cell_type": "code",
   "execution_count": 13,
   "outputs": [],
   "source": [
    "table_ref = client.dataset('food_delivery').table('couriers')\n",
    "job_config = bigquery.LoadJobConfig()\n",
    "job_config.source_format = bigquery.SourceFormat.CSV\n",
    "job_config.skip_leading_rows = 1\n",
    "job_config.schema = [\n",
    "    bigquery.SchemaField('courier_id', 'INTEGER', 'REQUIRED'),\n",
    "    bigquery.SchemaField('birth_date', 'DATE', 'REQUIRED'),\n",
    "    bigquery.SchemaField('sex', 'STRING', 'REQUIRED'),\n",
    "]\n",
    "with open('data_lab_1/couriers.csv', 'rb') as source_file:\n",
    "    client.load_table_from_file(\n",
    "        source_file, table_ref, job_config=job_config)"
   ],
   "metadata": {
    "collapsed": false
   }
  },
  {
   "cell_type": "code",
   "execution_count": 12,
   "outputs": [],
   "source": [
    "table_ref = client.dataset('food_delivery').table('orders')\n",
    "job_config = bigquery.LoadJobConfig()\n",
    "job_config.source_format = bigquery.SourceFormat.NEWLINE_DELIMITED_JSON\n",
    "job_config.schema = [\n",
    "    bigquery.SchemaField('order_id', 'INTEGER', 'REQUIRED'),\n",
    "    bigquery.SchemaField('creation_time', 'DATETIME', 'REQUIRED'),\n",
    "    bigquery.SchemaField('product_ids', 'INTEGER', 'REPEATED'),\n",
    "]\n",
    "with open('data_lab_1/orders.json', 'rb') as source_file:\n",
    "    client.load_table_from_file(\n",
    "        source_file, table_ref, job_config=job_config)"
   ],
   "metadata": {
    "collapsed": false
   }
  },
  {
   "cell_type": "code",
   "execution_count": 15,
   "outputs": [],
   "source": [
    "table_ref = client.dataset('food_delivery').table('products')\n",
    "job_config = bigquery.LoadJobConfig()\n",
    "job_config.source_format = bigquery.SourceFormat.CSV\n",
    "job_config.skip_leading_rows = 1\n",
    "job_config.schema = [\n",
    "    bigquery.SchemaField('product_id', 'INTEGER', 'REQUIRED'),\n",
    "    bigquery.SchemaField('name', 'STRING', 'REQUIRED'),\n",
    "    bigquery.SchemaField('price', 'FLOAT', 'REQUIRED'),\n",
    "]\n",
    "with open('data_lab_1/products.csv', 'rb') as source_file:\n",
    "    client.load_table_from_file(\n",
    "        source_file, table_ref, job_config=job_config)"
   ],
   "metadata": {
    "collapsed": false
   }
  },
  {
   "cell_type": "code",
   "execution_count": 17,
   "outputs": [],
   "source": [
    "table_ref = client.dataset('food_delivery').table('user_actions')\n",
    "job_config = bigquery.LoadJobConfig()\n",
    "job_config.source_format = bigquery.SourceFormat.CSV\n",
    "job_config.skip_leading_rows = 1\n",
    "job_config.schema = [\n",
    "    bigquery.SchemaField('user_id', 'INTEGER', 'REQUIRED'),\n",
    "    bigquery.SchemaField('order_id', 'INTEGER', 'REQUIRED'),\n",
    "    bigquery.SchemaField('action', 'STRING', 'REQUIRED'),\n",
    "    bigquery.SchemaField('time', 'DATETIME', 'REQUIRED'),\n",
    "]\n",
    "with open('data_lab_1/user_actions.csv', 'rb') as source_file:\n",
    "    client.load_table_from_file(\n",
    "        source_file, table_ref, job_config=job_config)"
   ],
   "metadata": {
    "collapsed": false
   }
  },
  {
   "cell_type": "code",
   "execution_count": 20,
   "outputs": [],
   "source": [
    "table_ref = client.dataset('food_delivery').table('users')\n",
    "job_config = bigquery.LoadJobConfig()\n",
    "job_config.source_format = bigquery.SourceFormat.CSV\n",
    "job_config.skip_leading_rows = 1\n",
    "job_config.schema = [\n",
    "    bigquery.SchemaField('user_id', 'INTEGER', 'REQUIRED'),\n",
    "    bigquery.SchemaField('birth_date', 'DATE', 'REQUIRED'),\n",
    "    bigquery.SchemaField('sex', 'STRING', 'REQUIRED'),\n",
    "]\n",
    "with open('data_lab_1/users.csv', 'rb') as source_file:\n",
    "    client.load_table_from_file(\n",
    "        source_file, table_ref, job_config=job_config)"
   ],
   "metadata": {
    "collapsed": false
   }
  },
  {
   "cell_type": "code",
   "execution_count": 23,
   "outputs": [
    {
     "name": "stdout",
     "output_type": "stream",
     "text": [
      "fruit drink blueberry\n"
     ]
    }
   ],
   "source": [
    "# Який товар має найдовшу назву?\n",
    "query = \"\"\"\n",
    "SELECT name\n",
    "FROM `nk-cloud-course-iav-21.food_delivery.products`\n",
    "ORDER BY LENGTH(name) DESC\n",
    "LIMIT 1\n",
    "\"\"\"\n",
    "query_job = client.query(query)\n",
    "for row in query_job:\n",
    "    print(row.name)"
   ],
   "metadata": {
    "collapsed": false
   }
  },
  {
   "cell_type": "code",
   "execution_count": 26,
   "outputs": [
    {
     "name": "stdout",
     "output_type": "stream",
     "text": [
      "3793\n",
      "362\n",
      "3922\n",
      "803\n",
      "3333\n",
      "3941\n",
      "2077\n",
      "1170\n",
      "1641\n",
      "2059\n"
     ]
    }
   ],
   "source": [
    "# Які користувачі зробили найбільше замовлень?\n",
    "query = \"\"\"\n",
    "SELECT user_id, COUNT(order_id) AS orders_count\n",
    "FROM `nk-cloud-course-iav-21.food_delivery.user_actions`\n",
    "WHERE action = 'create_order'\n",
    "GROUP BY user_id\n",
    "ORDER BY orders_count DESC\n",
    "LIMIT 10\n",
    "\"\"\"\n",
    "query_job = client.query(query)\n",
    "for row in query_job:\n",
    "    print(row.user_id)"
   ],
   "metadata": {
    "collapsed": false
   }
  },
  {
   "cell_type": "code",
   "execution_count": 33,
   "outputs": [
    {
     "name": "stdout",
     "output_type": "stream",
     "text": [
      "\n",
      "SELECT product_id, name, price / 1.05 AS old_price, price AS new_price\n",
      "FROM `nk-cloud-course-iav-21.food_delivery.products`\n",
      "WHERE product_id IN (57, 15, 22, 75, 62, 16, 24, 59, 87, 30, 55, 1, 56, 25, 7, 29, 69, 19, 68, 12, 66, 21, 27, 17, 61, 77, 51, 64, 85, 11, 43, 37, 36)\n",
      "UNION ALL\n",
      "SELECT product_id, name, price AS old_price, price AS new_price\n",
      "FROM `nk-cloud-course-iav-21.food_delivery.products`\n",
      "WHERE product_id NOT IN (57, 15, 22, 75, 62, 16, 24, 59, 87, 30, 55, 1, 56, 25, 7, 29, 69, 19, 68, 12, 66, 21, 27, 17, 61, 77, 51, 64, 85, 11, 43, 37, 36)\n",
      "\n",
      "10 seeds 12.0 12.0\n",
      "5 coffee 3 in 1 15.0 15.0\n",
      "73 cake 15.0 15.0\n",
      "6 crackers 25.0 25.0\n",
      "8 drying 30.0 30.0\n",
      "81 vinegar 30.0 30.0\n",
      "67 salt 30.0 30.0\n",
      "82 pita 30.0 30.0\n",
      "40 bread 40.0 40.0\n",
      "4 lollipops 46.0 46.0\n",
      "46 cookie 46.0 46.0\n",
      "2 green tea bags 50.0 50.0\n",
      "80 chewing gum 50.0 50.0\n",
      "20 long loaf 50.0 50.0\n",
      "47 sour cream 50.0 50.0\n",
      "76 black tea bags 56.0 56.0\n",
      "18 ketchup 58.0 58.0\n",
      "74 milk 60.0 60.0\n",
      "60 white chocolate 60.0 60.0\n",
      "14 mayonnaise 60.0 60.0\n",
      "44 marmalade 60.0 60.0\n",
      "33 black chocolate 60.0 60.0\n",
      "52 kvass 76.0 76.0\n",
      "38 oranges 76.0 76.0\n",
      "41 carbonated water 80.0 80.0\n",
      "3 still water 80.0 80.0\n",
      "9 black leaf tea 84.0 84.0\n",
      "65 bananas 100.0 100.0\n",
      "13 caviar 800.0 800.0\n",
      "54 paper bag 1.0 1.0\n",
      "79 herbal tea bags 65.0 65.0\n",
      "50 cold tea 35.0 35.0\n",
      "63 condensed milk 39.0 39.0\n",
      "23 yogurt 45.0 45.0\n",
      "39 bagels 45.0 45.0\n",
      "48 ivan-tea in bags 51.0 51.0\n",
      "83 waffles 55.0 55.0\n",
      "49 dried fruits 55.0 55.0\n",
      "32 oatmeal 55.0 55.0\n",
      "42 peas 66.0 66.0\n",
      "72 pears 66.0 66.0\n",
      "26 chips 70.0 70.0\n",
      "78 cupcakes 70.0 70.0\n",
      "86 cold coffee 70.0 70.0\n",
      "58 rice 70.0 70.0\n",
      "45 leaf green tea 78.0 78.0\n",
      "53 flour 78.0 78.0\n",
      "84 tangerines 90.0 90.0\n",
      "35 lemonade 90.0 90.0\n",
      "34 pasta 98.0 98.0\n",
      "31 buckwheat 67.0 67.0\n",
      "70 sunflower oil 75.0 75.0\n",
      "28 cream 75.0 75.0\n",
      "71 apples 75.0 75.0\n",
      "57 pork 546.9778125 574.3267031250001\n",
      "15 olive oil 546.9778125 574.3267031250001\n",
      "22 multifruit juice 145.86075000000002 153.15378750000002\n",
      "75 pineapple juice 145.86075000000002 153.15378750000002\n",
      "62 apple juice 145.86075000000002 153.15378750000002\n",
      "16 watermelon 145.86075000000002 153.15378750000002\n",
      "24 orange juice 145.86075000000002 153.15378750000002\n",
      "59 sesame oil 303.87656250000003 319.0703906250001\n",
      "87 veal 483.7714875000001 507.9600618750001\n",
      "30 energy drink 170.170875 178.67941875\n",
      "55 sprats 182.3259375 191.44223437500003\n",
      "1 sugar 182.3259375 191.44223437500003\n",
      "56 sausages 182.3259375 191.44223437500003\n",
      "25 instant coffee 182.3259375 191.44223437500003\n",
      "7 grain coffee 426.64269375000003 447.97482843750004\n",
      "29 fruit drink blueberry 206.63606250000004 216.96786562500006\n",
      "69 cranberry juice 212.71359375000003 223.34927343750005\n",
      "19 salted fish 218.79112500000005 229.73068125000006\n",
      "68 dried fish 140.998725 148.04866125\n",
      "12 grape 337.9107375000001 354.8062743750001\n",
      "66 beef 449.73731250000003 472.22417812500004\n",
      "21 ground coffee 343.9882687500001 361.1876821875001\n",
      "27 herbal leaf tea 147.07625625000003 154.43006906250002\n",
      "17 cowberry juice 230.94618750000006 242.4934968750001\n",
      "61 honey 461.89237500000013 484.9869937500002\n",
      "77 chicken 362.2208625000001 380.33190562500016\n",
      "51 smoked fish 237.02371875000003 248.87490468750005\n",
      "64 pineapple 243.10125000000002 255.25631250000004\n",
      "85 jam 243.10125000000002 255.25631250000004\n",
      "11 linseed oil 243.10125000000002 255.25631250000004\n",
      "43 decaffeinated coffee 486.20250000000004 510.51262500000007\n",
      "37 mutton 679.4679937500002 713.4413934375003\n",
      "36 tea mushroom 305.09206875000007 320.3466721875001\n"
     ]
    }
   ],
   "source": [
    "# Підвищить ціну на 5% тільки на товари, вартість яких перевищує 100 одиниць. Ціну решти товарів залиште без змін. Також не підвищуйте ціну на ікру (caviar), яка й так коштує 800 одиниць. Виведіть id та найменування всіх товарів, їх стару та нову ціну.\n",
    "query = \"\"\"\n",
    "SELECT product_id\n",
    "FROM `nk-cloud-course-iav-21.food_delivery.products`\n",
    "WHERE price > 100 AND name != 'caviar'\n",
    "\"\"\"\n",
    "product_ids_to_update = client.query(query)\n",
    "\n",
    "query = \"\"\"\n",
    "UPDATE `nk-cloud-course-iav-21.food_delivery.products`\n",
    "SET price = price * 1.05\n",
    "WHERE product_id IN ({})\n",
    "\"\"\".format(', '.join([str(row.product_id) for row in product_ids_to_update]))\n",
    "\n",
    "query = \"\"\"\n",
    "SELECT product_id, name, price / 1.05 AS old_price, price AS new_price\n",
    "FROM `nk-cloud-course-iav-21.food_delivery.products`\n",
    "WHERE product_id IN ({})\n",
    "UNION ALL\n",
    "SELECT product_id, name, price AS old_price, price AS new_price\n",
    "FROM `nk-cloud-course-iav-21.food_delivery.products`\n",
    "WHERE product_id NOT IN ({})\n",
    "\"\"\".format(', '.join([str(row.product_id) for row in product_ids_to_update]), ', '.join([str(row.product_id) for row in product_ids_to_update]))\n",
    "\n",
    "query_job = client.query(query)\n",
    "for row in query_job:\n",
    "    print(row.product_id, row.name, row.old_price, row.new_price)"
   ],
   "metadata": {
    "collapsed": false
   }
  },
  {
   "cell_type": "code",
   "execution_count": 34,
   "outputs": [
    {
     "name": "stdout",
     "output_type": "stream",
     "text": [
      "17\n"
     ]
    }
   ],
   "source": [
    "# Розрахуйте вік наймолодшого кур’єра з таблиці couriers.\n",
    "query = \"\"\"\n",
    "SELECT DATE_DIFF(CURRENT_DATE(), birth_date, YEAR) AS age\n",
    "FROM `nk-cloud-course-iav-21.food_delivery.couriers`\n",
    "ORDER BY age\n",
    "LIMIT 1\n",
    "\"\"\"\n",
    "query_job = client.query(query)\n",
    "for row in query_job:\n",
    "    print(row.age)"
   ],
   "metadata": {
    "collapsed": false
   }
  },
  {
   "cell_type": "code",
   "execution_count": 35,
   "outputs": [
    {
     "name": "stdout",
     "output_type": "stream",
     "text": [
      "2022-08-01 00:00:00 cancel_order 967\n",
      "2022-08-01 00:00:00 create_order 18799\n",
      "2022-09-01 00:00:00 cancel_order 2012\n",
      "2022-09-01 00:00:00 create_order 40796\n"
     ]
    }
   ],
   "source": [
    "# Використовуючи функцію DATE_TRUNC, порахуйте, скільки замовлень було зроблено та скільки було скасовано кожного місяця. Розрахунки проводьте за таблицею user_actions.\n",
    "query = \"\"\"\n",
    "SELECT DATE_TRUNC(time, MONTH) AS month, action, COUNT(order_id) AS orders_count\n",
    "FROM `nk-cloud-course-iav-21.food_delivery.user_actions`\n",
    "WHERE action IN ('create_order', 'cancel_order')\n",
    "GROUP BY month, action\n",
    "ORDER BY month, action\n",
    "\"\"\"\n",
    "query_job = client.query(query)\n",
    "for row in query_job:\n",
    "    print(row.month, row.action, row.orders_count)"
   ],
   "metadata": {
    "collapsed": false
   }
  },
  {
   "cell_type": "code",
   "execution_count": 37,
   "outputs": [
    {
     "name": "stdout",
     "output_type": "stream",
     "text": [
      "22408 1920\n",
      "58491 1920\n",
      "1155 1860\n",
      "26326 1860\n",
      "12150 1860\n",
      "11064 1860\n",
      "14647 1860\n",
      "22907 1860\n",
      "1464 1860\n",
      "18991 1860\n"
     ]
    }
   ],
   "source": [
    "# За таблицями orders та courier_actions визначте id десяти замовлень, які доставляли найдовше. Тобто знайти order_id, для яких різниця між часом створення та часом доставки була найбільшою.\n",
    "query = \"\"\"\n",
    "WITH orders_delivery_time AS (\n",
    "    SELECT order_id, TIMESTAMP_DIFF(\n",
    "        (SELECT time FROM `nk-cloud-course-iav-21.food_delivery.courier_actions` WHERE order_id = o.order_id AND action = 'deliver_order'),\n",
    "        creation_time,\n",
    "        SECOND\n",
    "    ) AS delivery_time\n",
    "    FROM `nk-cloud-course-iav-21.food_delivery.orders` o\n",
    ")\n",
    "SELECT order_id, delivery_time\n",
    "FROM orders_delivery_time\n",
    "ORDER BY delivery_time DESC\n",
    "LIMIT 10\n",
    "\"\"\"\n",
    "\n",
    "query_job = client.query(query)\n",
    "for row in query_job:\n",
    "    print(row.order_id, row.delivery_time)"
   ],
   "metadata": {
    "collapsed": false
   }
  }
 ],
 "metadata": {
  "kernelspec": {
   "display_name": "Python 3",
   "language": "python",
   "name": "python3"
  },
  "language_info": {
   "codemirror_mode": {
    "name": "ipython",
    "version": 2
   },
   "file_extension": ".py",
   "mimetype": "text/x-python",
   "name": "python",
   "nbconvert_exporter": "python",
   "pygments_lexer": "ipython2",
   "version": "2.7.6"
  }
 },
 "nbformat": 4,
 "nbformat_minor": 0
}
