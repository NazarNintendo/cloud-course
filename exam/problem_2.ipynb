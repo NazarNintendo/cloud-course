{
 "cells": [
  {
   "cell_type": "markdown",
   "source": [
    "Посилання на візуалізацію (створено за допомогою problem_2_output/result_*.csv з попереднього завдання):\n",
    "https://lookerstudio.google.com/reporting/c915a2d8-c17f-4ccc-826b-7638707de4b8"
   ],
   "metadata": {
    "collapsed": false
   }
  }
 ],
 "metadata": {
  "kernelspec": {
   "display_name": "Python 3",
   "language": "python",
   "name": "python3"
  },
  "language_info": {
   "codemirror_mode": {
    "name": "ipython",
    "version": 2
   },
   "file_extension": ".py",
   "mimetype": "text/x-python",
   "name": "python",
   "nbconvert_exporter": "python",
   "pygments_lexer": "ipython2",
   "version": "2.7.6"
  }
 },
 "nbformat": 4,
 "nbformat_minor": 0
}
