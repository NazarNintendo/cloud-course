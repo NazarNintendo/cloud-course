{
 "cells": [
  {
   "cell_type": "markdown",
   "source": [
    "Уявімо ситуацію: до нас звернулися маркетологи з проханням порівняти дві рекламні кампанії.\n",
    "\n",
    "В межах кампанії №1 про наш додаток розповів відомий блогер на Youtube-каналі про кулінарії. В межах рекламної кампанії №2 користувачам показували таргетовану рекламу у соціальних мережах.\n",
    "\n",
    "Список id користувачів, що прийшли після рекламної кампанії №1:\n",
    "\n",
    "8631, 8632, 8638, 8643, 8657, 8673, 8706, 8707, 8715, 8723, 8732, 8739, 8741,\n",
    "8750, 8751, 8752, 8770, 8774, 8788, 8791, 8804, 8810, 8815, 8828, 8830, 8845,\n",
    "8853, 8859, 8867, 8869, 8876, 8879, 8883, 8896, 8909, 8911, 8933, 8940, 8972,\n",
    "8976, 8988, 8990, 9002, 9004, 9009, 9019, 9020, 9035, 9036, 9061, 9069, 9071,\n",
    "9075, 9081, 9085, 9089, 9108, 9113, 9144, 9145, 9146, 9162, 9165, 9167, 9175,\n",
    "9180, 9182, 9197, 9198, 9210, 9223, 9251, 9257, 9278, 9287, 9291, 9313, 9317,\n",
    "9321, 9334, 9351, 9391, 9398, 9414, 9420, 9422, 9431, 9450, 9451, 9454, 9472,\n",
    "9476, 9478, 9491, 9494, 9505, 9512, 9518, 9524, 9526, 9528, 9531, 9535, 9550,\n",
    "9559, 9561, 9562, 9599, 9603, 9605, 9611, 9612, 9615, 9625, 9633, 9652, 9654,\n",
    "9655, 9660, 9662, 9667, 9677, 9679, 9689, 9695, 9720, 9726, 9739, 9740, 9762,\n",
    "9778, 9786, 9794, 9804, 9810, 9813, 9818, 9828, 9831, 9836, 9838, 9845, 9871,\n",
    "9887, 9891, 9896, 9897, 9916, 9945, 9960, 9963, 9965, 9968, 9971, 9993, 9998,\n",
    "9999, 10001, 10013, 10016, 10023, 10030, 10051, 10057, 10064, 10082, 10103,\n",
    "10105, 10122, 10134, 10135\n",
    "Список id користувачів, що прийшли після рекламної кампанії №2:\n",
    "\n",
    "8629, 8630, 8644, 8646, 8650, 8655, 8659, 8660, 8663, 8665, 8670, 8675, 8680, 8681,\n",
    "8682, 8683, 8694, 8697, 8700, 8704, 8712, 8713, 8719, 8729, 8733, 8742, 8748, 8754,\n",
    "8771, 8794, 8795, 8798, 8803, 8805, 8806, 8812, 8814, 8825, 8827, 8838, 8849, 8851,\n",
    "8854, 8855, 8870, 8878, 8882, 8886, 8890, 8893, 8900, 8902, 8913, 8916, 8923, 8929,\n",
    "8935, 8942, 8943, 8949, 8953, 8955, 8966, 8968, 8971, 8973, 8980, 8995, 8999, 9000,\n",
    "9007, 9013, 9041, 9042, 9047, 9064, 9068, 9077, 9082, 9083, 9095, 9103, 9109, 9117,\n",
    "9123, 9127, 9131, 9137, 9140, 9149, 9161, 9179, 9181, 9183, 9185, 9190, 9196, 9203,\n",
    "9207, 9226, 9227, 9229, 9230, 9231, 9250, 9255, 9259, 9267, 9273, 9281, 9282, 9289,\n",
    "9292, 9303, 9310, 9312, 9315, 9327, 9333, 9335, 9337, 9343, 9356, 9368, 9370, 9383,\n",
    "9392, 9404, 9410, 9421, 9428, 9432, 9437, 9468, 9479, 9483, 9485, 9492, 9495, 9497,\n",
    "9498, 9500, 9510, 9527, 9529, 9530, 9538, 9539, 9545, 9557, 9558, 9560, 9564, 9567,\n",
    "9570, 9591, 9596, 9598, 9616, 9631, 9634, 9635, 9636, 9658, 9666, 9672, 9684, 9692,\n",
    "9700, 9704, 9706, 9711, 9719, 9727, 9735, 9741, 9744, 9749, 9752, 9753, 9755, 9757,\n",
    "9764, 9783, 9784, 9788, 9790, 9808, 9820, 9839, 9841, 9843, 9853, 9855, 9859, 9863,\n",
    "9877, 9879, 9880, 9882, 9883, 9885, 9901, 9904, 9908, 9910, 9912, 9920, 9929, 9930,\n",
    "9935, 9939, 9958, 9959, 9961, 9983, 10027, 10033, 10038, 10045, 10047, 10048, 10058,\n",
    "10059, 10067, 10069, 10073, 10075, 10078, 10079, 10081, 10092, 10106, 10110, 10113, 10131\n",
    "Retention rate – коефіцієнт утримання клієнтів. Він показує частку користувачів, які повернулися до програми через N днів, тижнів або місяців після свого першого входу — метрику можна розраховувати за будь-якими цікавими періодами.\n",
    "\n",
    "Для кожної рекламної кампанії порахуйте Retention 1-го та 7-го дня у залучених користувачів.\n",
    "\n",
    "У результаті включіть чотири колонки: колонку з найменуваннями кампаній, дату першої взаємодії з додатком, кількість днів, що минули з дати першої взаємодії (порядковий номер), і саме значення Retention.\n",
    "\n",
    "Колонки зі значеннями назвіть відповідно ads_campaign, start_date, day_number, retention.\n",
    "\n",
    "Назви кампаній виведіть у такому вигляді:\n",
    "\n",
    "Company 1\n",
    "Company 2\n",
    "Метрику необхідно виразити у вигляді частки, округливши отримані значення до двох знаків після коми.\n",
    "\n",
    "Результат має бути відсортований спочатку за найменуванням кампанії (за зростанням), потім за зростанням порядкового номера дня.\n",
    "\n",
    "У результат мають потрапити наступні дні: нульовий, перший та сьомий.\n",
    "\n",
    "Поля в фінальній таблиці: ads_campaign, start_date, day_number, retention"
   ],
   "metadata": {
    "collapsed": false
   }
  },
  {
   "cell_type": "code",
   "execution_count": 126,
   "outputs": [],
   "source": [
    "import pandas as pd\n",
    "from google.cloud import bigquery\n",
    "\n",
    "client = bigquery.Client(project='nk-cloud-course-iav-21')"
   ],
   "metadata": {
    "collapsed": false
   }
  },
  {
   "cell_type": "code",
   "execution_count": 127,
   "outputs": [],
   "source": [
    "campaign_1_user_ids = [\n",
    "    8631, 8632, 8638, 8643, 8657, 8673, 8706, 8707, 8715, 8723, 8732, 8739, 8741,\n",
    "8750, 8751, 8752, 8770, 8774, 8788, 8791, 8804, 8810, 8815, 8828, 8830, 8845,\n",
    "8853, 8859, 8867, 8869, 8876, 8879, 8883, 8896, 8909, 8911, 8933, 8940, 8972,\n",
    "8976, 8988, 8990, 9002, 9004, 9009, 9019, 9020, 9035, 9036, 9061, 9069, 9071,\n",
    "9075, 9081, 9085, 9089, 9108, 9113, 9144, 9145, 9146, 9162, 9165, 9167, 9175,\n",
    "9180, 9182, 9197, 9198, 9210, 9223, 9251, 9257, 9278, 9287, 9291, 9313, 9317,\n",
    "9321, 9334, 9351, 9391, 9398, 9414, 9420, 9422, 9431, 9450, 9451, 9454, 9472,\n",
    "9476, 9478, 9491, 9494, 9505, 9512, 9518, 9524, 9526, 9528, 9531, 9535, 9550,\n",
    "9559, 9561, 9562, 9599, 9603, 9605, 9611, 9612, 9615, 9625, 9633, 9652, 9654,\n",
    "9655, 9660, 9662, 9667, 9677, 9679, 9689, 9695, 9720, 9726, 9739, 9740, 9762,\n",
    "9778, 9786, 9794, 9804, 9810, 9813, 9818, 9828, 9831, 9836, 9838, 9845, 9871,\n",
    "9887, 9891, 9896, 9897, 9916, 9945, 9960, 9963, 9965, 9968, 9971, 9993, 9998,\n",
    "9999, 10001, 10013, 10016, 10023, 10030, 10051, 10057, 10064, 10082, 10103,\n",
    "10105, 10122, 10134, 10135\n",
    "]\n",
    "\n",
    "campaign_2_user_ids = [\n",
    "    8629, 8630, 8644, 8646, 8650, 8655, 8659, 8660, 8663, 8665, 8670, 8675, 8680, 8681,\n",
    "8682, 8683, 8694, 8697, 8700, 8704, 8712, 8713, 8719, 8729, 8733, 8742, 8748, 8754,\n",
    "8771, 8794, 8795, 8798, 8803, 8805, 8806, 8812, 8814, 8825, 8827, 8838, 8849, 8851,\n",
    "8854, 8855, 8870, 8878, 8882, 8886, 8890, 8893, 8900, 8902, 8913, 8916, 8923, 8929,\n",
    "8935, 8942, 8943, 8949, 8953, 8955, 8966, 8968, 8971, 8973, 8980, 8995, 8999, 9000,\n",
    "9007, 9013, 9041, 9042, 9047, 9064, 9068, 9077, 9082, 9083, 9095, 9103, 9109, 9117,\n",
    "9123, 9127, 9131, 9137, 9140, 9149, 9161, 9179, 9181, 9183, 9185, 9190, 9196, 9203,\n",
    "9207, 9226, 9227, 9229, 9230, 9231, 9250, 9255, 9259, 9267, 9273, 9281, 9282, 9289,\n",
    "9292, 9303, 9310, 9312, 9315, 9327, 9333, 9335, 9337, 9343, 9356, 9368, 9370, 9383,\n",
    "9392, 9404, 9410, 9421, 9428, 9432, 9437, 9468, 9479, 9483, 9485, 9492, 9495, 9497,\n",
    "9498, 9500, 9510, 9527, 9529, 9530, 9538, 9539, 9545, 9557, 9558, 9560, 9564, 9567,\n",
    "9570, 9591, 9596, 9598, 9616, 9631, 9634, 9635, 9636, 9658, 9666, 9672, 9684, 9692,\n",
    "9700, 9704, 9706, 9711, 9719, 9727, 9735, 9741, 9744, 9749, 9752, 9753, 9755, 9757,\n",
    "9764, 9783, 9784, 9788, 9790, 9808, 9820, 9839, 9841, 9843, 9853, 9855, 9859, 9863,\n",
    "9877, 9879, 9880, 9882, 9883, 9885, 9901, 9904, 9908, 9910, 9912, 9920, 9929, 9930,\n",
    "9935, 9939, 9958, 9959, 9961, 9983, 10027, 10033, 10038, 10045, 10047, 10048, 10058,\n",
    "10059, 10067, 10069, 10073, 10075, 10078, 10079, 10081, 10092, 10106, 10110, 10113, 10131\n",
    "]"
   ],
   "metadata": {
    "collapsed": false
   }
  },
  {
   "cell_type": "markdown",
   "source": [
    "Отримати дати свого першого входу можна через create_order з таблиці user_actions для користувачів з першої кампанії:"
   ],
   "metadata": {
    "collapsed": false
   }
  },
  {
   "cell_type": "code",
   "execution_count": 128,
   "outputs": [
    {
     "data": {
      "text/plain": "   user_id first_event_datetime\n0     8631  2022-09-01 00:04:00\n1     8632  2022-09-01 00:04:00\n2     8638  2022-09-01 00:08:00\n3     8643  2022-09-01 00:12:00\n4     8657  2022-09-01 00:25:00",
      "text/html": "<div>\n<style scoped>\n    .dataframe tbody tr th:only-of-type {\n        vertical-align: middle;\n    }\n\n    .dataframe tbody tr th {\n        vertical-align: top;\n    }\n\n    .dataframe thead th {\n        text-align: right;\n    }\n</style>\n<table border=\"1\" class=\"dataframe\">\n  <thead>\n    <tr style=\"text-align: right;\">\n      <th></th>\n      <th>user_id</th>\n      <th>first_event_datetime</th>\n    </tr>\n  </thead>\n  <tbody>\n    <tr>\n      <th>0</th>\n      <td>8631</td>\n      <td>2022-09-01 00:04:00</td>\n    </tr>\n    <tr>\n      <th>1</th>\n      <td>8632</td>\n      <td>2022-09-01 00:04:00</td>\n    </tr>\n    <tr>\n      <th>2</th>\n      <td>8638</td>\n      <td>2022-09-01 00:08:00</td>\n    </tr>\n    <tr>\n      <th>3</th>\n      <td>8643</td>\n      <td>2022-09-01 00:12:00</td>\n    </tr>\n    <tr>\n      <th>4</th>\n      <td>8657</td>\n      <td>2022-09-01 00:25:00</td>\n    </tr>\n  </tbody>\n</table>\n</div>"
     },
     "execution_count": 128,
     "metadata": {},
     "output_type": "execute_result"
    }
   ],
   "source": [
    "first_event_query_campaign_1 = f'''\n",
    "SELECT\n",
    "    user_id,\n",
    "    MIN(time) AS first_event_datetime\n",
    "FROM\n",
    "    nk-cloud-course-iav-21.food_delivery.user_actions\n",
    "WHERE\n",
    "    user_id IN ({', '.join(map(str, campaign_1_user_ids))})\n",
    "    AND action = 'create_order'\n",
    "GROUP BY\n",
    "    user_id\n",
    "'''\n",
    "\n",
    "query_job = client.query(first_event_query_campaign_1)\n",
    "campaign_1_first_event = query_job.to_dataframe()\n",
    "campaign_1_first_event.head()"
   ],
   "metadata": {
    "collapsed": false
   }
  },
  {
   "cell_type": "markdown",
   "source": [
    "Розрахуємо retention нульового дня для користувачів з першої кампанії:"
   ],
   "metadata": {
    "collapsed": false
   }
  },
  {
   "cell_type": "code",
   "execution_count": 129,
   "outputs": [
    {
     "data": {
      "text/plain": "   campaign_1_retention_day_zero\n0                            166",
      "text/html": "<div>\n<style scoped>\n    .dataframe tbody tr th:only-of-type {\n        vertical-align: middle;\n    }\n\n    .dataframe tbody tr th {\n        vertical-align: top;\n    }\n\n    .dataframe thead th {\n        text-align: right;\n    }\n</style>\n<table border=\"1\" class=\"dataframe\">\n  <thead>\n    <tr style=\"text-align: right;\">\n      <th></th>\n      <th>campaign_1_retention_day_zero</th>\n    </tr>\n  </thead>\n  <tbody>\n    <tr>\n      <th>0</th>\n      <td>166</td>\n    </tr>\n  </tbody>\n</table>\n</div>"
     },
     "execution_count": 129,
     "metadata": {},
     "output_type": "execute_result"
    }
   ],
   "source": [
    "query = f'''\n",
    "WITH first_event AS ({first_event_query_campaign_1})\n",
    "SELECT COUNT(DISTINCT a.user_id) AS campaign_1_retention_day_zero\n",
    "FROM nk-cloud-course-iav-21.food_delivery.user_actions a\n",
    "WHERE a.user_id IN ({', '.join(map(str, campaign_1_user_ids))})\n",
    "    AND action = 'create_order'\n",
    "    AND time != (SELECT first_event_datetime FROM first_event WHERE user_id = a.user_id)\n",
    "    AND DATE_DIFF(time, (SELECT first_event_datetime FROM first_event WHERE user_id = a.user_id), DAY) >= 0\n",
    "'''\n",
    "\n",
    "query_job = client.query(query)\n",
    "campaign_1_retention_day_zero = query_job.to_dataframe()\n",
    "campaign_1_retention_day_zero"
   ],
   "metadata": {
    "collapsed": false
   }
  },
  {
   "cell_type": "markdown",
   "source": [
    "Розрахуємо retention першого дня для користувачів з першої кампанії:"
   ],
   "metadata": {
    "collapsed": false
   }
  },
  {
   "cell_type": "code",
   "execution_count": 130,
   "outputs": [
    {
     "data": {
      "text/plain": "   campaign_1_retention_day_one\n0                           162",
      "text/html": "<div>\n<style scoped>\n    .dataframe tbody tr th:only-of-type {\n        vertical-align: middle;\n    }\n\n    .dataframe tbody tr th {\n        vertical-align: top;\n    }\n\n    .dataframe thead th {\n        text-align: right;\n    }\n</style>\n<table border=\"1\" class=\"dataframe\">\n  <thead>\n    <tr style=\"text-align: right;\">\n      <th></th>\n      <th>campaign_1_retention_day_one</th>\n    </tr>\n  </thead>\n  <tbody>\n    <tr>\n      <th>0</th>\n      <td>162</td>\n    </tr>\n  </tbody>\n</table>\n</div>"
     },
     "execution_count": 130,
     "metadata": {},
     "output_type": "execute_result"
    }
   ],
   "source": [
    "query = f'''\n",
    "WITH first_event AS ({first_event_query_campaign_1})\n",
    "SELECT COUNT(DISTINCT a.user_id) AS campaign_1_retention_day_one\n",
    "FROM nk-cloud-course-iav-21.food_delivery.user_actions a\n",
    "WHERE a.user_id IN ({', '.join(map(str, campaign_1_user_ids))})\n",
    "    AND action = 'create_order'\n",
    "    AND time != (SELECT first_event_datetime FROM first_event WHERE user_id = a.user_id)\n",
    "    AND DATE_DIFF(time, (SELECT first_event_datetime FROM first_event WHERE user_id = a.user_id), DAY) >= 1\n",
    "'''\n",
    "\n",
    "query_job = client.query(query)\n",
    "campaign_1_retention_day_one = query_job.to_dataframe()\n",
    "campaign_1_retention_day_one"
   ],
   "metadata": {
    "collapsed": false
   }
  },
  {
   "cell_type": "markdown",
   "source": [
    "Розрахуємо retention сьомого дня для користувачів з першої кампанії:"
   ],
   "metadata": {
    "collapsed": false
   }
  },
  {
   "cell_type": "code",
   "execution_count": 131,
   "outputs": [
    {
     "data": {
      "text/plain": "   campaign_1_retention_day_seven\n0                              37",
      "text/html": "<div>\n<style scoped>\n    .dataframe tbody tr th:only-of-type {\n        vertical-align: middle;\n    }\n\n    .dataframe tbody tr th {\n        vertical-align: top;\n    }\n\n    .dataframe thead th {\n        text-align: right;\n    }\n</style>\n<table border=\"1\" class=\"dataframe\">\n  <thead>\n    <tr style=\"text-align: right;\">\n      <th></th>\n      <th>campaign_1_retention_day_seven</th>\n    </tr>\n  </thead>\n  <tbody>\n    <tr>\n      <th>0</th>\n      <td>37</td>\n    </tr>\n  </tbody>\n</table>\n</div>"
     },
     "execution_count": 131,
     "metadata": {},
     "output_type": "execute_result"
    }
   ],
   "source": [
    "query = f'''\n",
    "WITH first_event AS ({first_event_query_campaign_1})\n",
    "SELECT COUNT(DISTINCT a.user_id) AS campaign_1_retention_day_seven\n",
    "FROM nk-cloud-course-iav-21.food_delivery.user_actions a\n",
    "WHERE a.user_id IN ({', '.join(map(str, campaign_1_user_ids))})\n",
    "    AND action = 'create_order'\n",
    "    AND time != (SELECT first_event_datetime FROM first_event WHERE user_id = a.user_id)\n",
    "    AND DATE_DIFF(time, (SELECT first_event_datetime FROM first_event WHERE user_id = a.user_id), DAY) >= 7\n",
    "'''\n",
    "\n",
    "query_job = client.query(query)\n",
    "campaign_1_retention_day_seven = query_job.to_dataframe()\n",
    "campaign_1_retention_day_seven"
   ],
   "metadata": {
    "collapsed": false
   }
  },
  {
   "cell_type": "markdown",
   "source": [
    "За прямою аналогією розрахуємо retention для користувачів з другої кампанії:"
   ],
   "metadata": {
    "collapsed": false
   }
  },
  {
   "cell_type": "code",
   "execution_count": 132,
   "outputs": [
    {
     "data": {
      "text/plain": "   user_id first_event_datetime\n0     8629  2022-09-01 00:02:00\n1     8630  2022-09-01 00:03:00\n2     8644  2022-09-01 00:14:00\n3     8646  2022-09-01 00:15:00\n4     8650  2022-09-01 00:17:00",
      "text/html": "<div>\n<style scoped>\n    .dataframe tbody tr th:only-of-type {\n        vertical-align: middle;\n    }\n\n    .dataframe tbody tr th {\n        vertical-align: top;\n    }\n\n    .dataframe thead th {\n        text-align: right;\n    }\n</style>\n<table border=\"1\" class=\"dataframe\">\n  <thead>\n    <tr style=\"text-align: right;\">\n      <th></th>\n      <th>user_id</th>\n      <th>first_event_datetime</th>\n    </tr>\n  </thead>\n  <tbody>\n    <tr>\n      <th>0</th>\n      <td>8629</td>\n      <td>2022-09-01 00:02:00</td>\n    </tr>\n    <tr>\n      <th>1</th>\n      <td>8630</td>\n      <td>2022-09-01 00:03:00</td>\n    </tr>\n    <tr>\n      <th>2</th>\n      <td>8644</td>\n      <td>2022-09-01 00:14:00</td>\n    </tr>\n    <tr>\n      <th>3</th>\n      <td>8646</td>\n      <td>2022-09-01 00:15:00</td>\n    </tr>\n    <tr>\n      <th>4</th>\n      <td>8650</td>\n      <td>2022-09-01 00:17:00</td>\n    </tr>\n  </tbody>\n</table>\n</div>"
     },
     "execution_count": 132,
     "metadata": {},
     "output_type": "execute_result"
    }
   ],
   "source": [
    "first_event_query_campaign_2 = f'''\n",
    "SELECT\n",
    "    user_id,\n",
    "    MIN(time) AS first_event_datetime\n",
    "FROM\n",
    "    nk-cloud-course-iav-21.food_delivery.user_actions\n",
    "WHERE\n",
    "    user_id IN ({', '.join(map(str, campaign_2_user_ids))})\n",
    "    AND action = 'create_order'\n",
    "GROUP BY\n",
    "    user_id\n",
    "'''\n",
    "\n",
    "query_job = client.query(first_event_query_campaign_2)\n",
    "campaign_2_first_event = query_job.to_dataframe()\n",
    "campaign_2_first_event.head()"
   ],
   "metadata": {
    "collapsed": false
   }
  },
  {
   "cell_type": "markdown",
   "source": [
    "Розрахуємо retention нульового дня для користувачів з другої кампанії:"
   ],
   "metadata": {
    "collapsed": false
   }
  },
  {
   "cell_type": "code",
   "execution_count": 133,
   "outputs": [
    {
     "data": {
      "text/plain": "   campaign_2_retention_day_zero\n0                            200",
      "text/html": "<div>\n<style scoped>\n    .dataframe tbody tr th:only-of-type {\n        vertical-align: middle;\n    }\n\n    .dataframe tbody tr th {\n        vertical-align: top;\n    }\n\n    .dataframe thead th {\n        text-align: right;\n    }\n</style>\n<table border=\"1\" class=\"dataframe\">\n  <thead>\n    <tr style=\"text-align: right;\">\n      <th></th>\n      <th>campaign_2_retention_day_zero</th>\n    </tr>\n  </thead>\n  <tbody>\n    <tr>\n      <th>0</th>\n      <td>200</td>\n    </tr>\n  </tbody>\n</table>\n</div>"
     },
     "execution_count": 133,
     "metadata": {},
     "output_type": "execute_result"
    }
   ],
   "source": [
    "query = f'''\n",
    "WITH first_event AS ({first_event_query_campaign_2})\n",
    "SELECT COUNT(DISTINCT a.user_id) AS campaign_2_retention_day_zero\n",
    "FROM nk-cloud-course-iav-21.food_delivery.user_actions a\n",
    "WHERE a.user_id IN ({', '.join(map(str, campaign_2_user_ids))})\n",
    "    AND action = 'create_order'\n",
    "    AND time != (SELECT first_event_datetime FROM first_event WHERE user_id = a.user_id)\n",
    "    AND DATE_DIFF(time, (SELECT first_event_datetime FROM first_event WHERE user_id = a.user_id), DAY) >= 0\n",
    "'''\n",
    "\n",
    "query_job = client.query(query)\n",
    "campaign_2_retention_day_zero = query_job.to_dataframe()\n",
    "campaign_2_retention_day_zero"
   ],
   "metadata": {
    "collapsed": false
   }
  },
  {
   "cell_type": "markdown",
   "source": [
    "Розрахуємо retention першого дня для користувачів з другої кампанії:"
   ],
   "metadata": {
    "collapsed": false
   }
  },
  {
   "cell_type": "code",
   "execution_count": 134,
   "outputs": [
    {
     "data": {
      "text/plain": "   campaign_2_retention_day_one\n0                           175",
      "text/html": "<div>\n<style scoped>\n    .dataframe tbody tr th:only-of-type {\n        vertical-align: middle;\n    }\n\n    .dataframe tbody tr th {\n        vertical-align: top;\n    }\n\n    .dataframe thead th {\n        text-align: right;\n    }\n</style>\n<table border=\"1\" class=\"dataframe\">\n  <thead>\n    <tr style=\"text-align: right;\">\n      <th></th>\n      <th>campaign_2_retention_day_one</th>\n    </tr>\n  </thead>\n  <tbody>\n    <tr>\n      <th>0</th>\n      <td>175</td>\n    </tr>\n  </tbody>\n</table>\n</div>"
     },
     "execution_count": 134,
     "metadata": {},
     "output_type": "execute_result"
    }
   ],
   "source": [
    "query = f'''\n",
    "WITH first_event AS ({first_event_query_campaign_2})\n",
    "SELECT COUNT(DISTINCT a.user_id) AS campaign_2_retention_day_one\n",
    "FROM nk-cloud-course-iav-21.food_delivery.user_actions a\n",
    "WHERE a.user_id IN ({', '.join(map(str, campaign_2_user_ids))})\n",
    "    AND action = 'create_order'\n",
    "    AND time != (SELECT first_event_datetime FROM first_event WHERE user_id = a.user_id)\n",
    "    AND DATE_DIFF(time, (SELECT first_event_datetime FROM first_event WHERE user_id = a.user_id), DAY) >= 1\n",
    "'''\n",
    "\n",
    "query_job = client.query(query)\n",
    "campaign_2_retention_day_one = query_job.to_dataframe()\n",
    "campaign_2_retention_day_one"
   ],
   "metadata": {
    "collapsed": false
   }
  },
  {
   "cell_type": "markdown",
   "source": [
    "Розрахуємо retention сьомого дня для користувачів з другої кампанії:"
   ],
   "metadata": {
    "collapsed": false
   }
  },
  {
   "cell_type": "code",
   "execution_count": 135,
   "outputs": [
    {
     "data": {
      "text/plain": "   campaign_2_retention_day_seven\n0                              21",
      "text/html": "<div>\n<style scoped>\n    .dataframe tbody tr th:only-of-type {\n        vertical-align: middle;\n    }\n\n    .dataframe tbody tr th {\n        vertical-align: top;\n    }\n\n    .dataframe thead th {\n        text-align: right;\n    }\n</style>\n<table border=\"1\" class=\"dataframe\">\n  <thead>\n    <tr style=\"text-align: right;\">\n      <th></th>\n      <th>campaign_2_retention_day_seven</th>\n    </tr>\n  </thead>\n  <tbody>\n    <tr>\n      <th>0</th>\n      <td>21</td>\n    </tr>\n  </tbody>\n</table>\n</div>"
     },
     "execution_count": 135,
     "metadata": {},
     "output_type": "execute_result"
    }
   ],
   "source": [
    "query = f'''\n",
    "WITH first_event AS ({first_event_query_campaign_2})\n",
    "SELECT COUNT(DISTINCT a.user_id) AS campaign_2_retention_day_seven\n",
    "FROM nk-cloud-course-iav-21.food_delivery.user_actions a\n",
    "WHERE a.user_id IN ({', '.join(map(str, campaign_2_user_ids))})\n",
    "    AND action = 'create_order'\n",
    "    AND time != (SELECT first_event_datetime FROM first_event WHERE user_id = a.user_id)\n",
    "    AND DATE_DIFF(time, (SELECT first_event_datetime FROM first_event WHERE user_id = a.user_id), DAY) >= 7\n",
    "'''\n",
    "\n",
    "query_job = client.query(query)\n",
    "campaign_2_retention_day_seven = query_job.to_dataframe()\n",
    "campaign_2_retention_day_seven"
   ],
   "metadata": {
    "collapsed": false
   }
  },
  {
   "cell_type": "markdown",
   "source": [
    "Обчислимо загальну к-сть користувачів, зіллємо результати і виведемо нашу фінальну таблицю:"
   ],
   "metadata": {
    "collapsed": false
   }
  },
  {
   "cell_type": "code",
   "execution_count": 136,
   "outputs": [
    {
     "data": {
      "text/plain": "  ads_campaign          start_date  day_number  retention\n0    Company 1 2022-09-01 00:04:00           0       0.97\n1    Company 1 2022-09-01 00:04:00           1       0.95\n2    Company 1 2022-09-01 00:04:00           7       0.22\n3    Company 2 2022-09-01 00:02:00           0       0.85\n4    Company 2 2022-09-01 00:02:00           1       0.74\n5    Company 2 2022-09-01 00:02:00           7       0.09",
      "text/html": "<div>\n<style scoped>\n    .dataframe tbody tr th:only-of-type {\n        vertical-align: middle;\n    }\n\n    .dataframe tbody tr th {\n        vertical-align: top;\n    }\n\n    .dataframe thead th {\n        text-align: right;\n    }\n</style>\n<table border=\"1\" class=\"dataframe\">\n  <thead>\n    <tr style=\"text-align: right;\">\n      <th></th>\n      <th>ads_campaign</th>\n      <th>start_date</th>\n      <th>day_number</th>\n      <th>retention</th>\n    </tr>\n  </thead>\n  <tbody>\n    <tr>\n      <th>0</th>\n      <td>Company 1</td>\n      <td>2022-09-01 00:04:00</td>\n      <td>0</td>\n      <td>0.97</td>\n    </tr>\n    <tr>\n      <th>1</th>\n      <td>Company 1</td>\n      <td>2022-09-01 00:04:00</td>\n      <td>1</td>\n      <td>0.95</td>\n    </tr>\n    <tr>\n      <th>2</th>\n      <td>Company 1</td>\n      <td>2022-09-01 00:04:00</td>\n      <td>7</td>\n      <td>0.22</td>\n    </tr>\n    <tr>\n      <th>3</th>\n      <td>Company 2</td>\n      <td>2022-09-01 00:02:00</td>\n      <td>0</td>\n      <td>0.85</td>\n    </tr>\n    <tr>\n      <th>4</th>\n      <td>Company 2</td>\n      <td>2022-09-01 00:02:00</td>\n      <td>1</td>\n      <td>0.74</td>\n    </tr>\n    <tr>\n      <th>5</th>\n      <td>Company 2</td>\n      <td>2022-09-01 00:02:00</td>\n      <td>7</td>\n      <td>0.09</td>\n    </tr>\n  </tbody>\n</table>\n</div>"
     },
     "execution_count": 136,
     "metadata": {},
     "output_type": "execute_result"
    }
   ],
   "source": [
    "import pandas as pd\n",
    "\n",
    "total_campaign_1 = len(campaign_1_user_ids)\n",
    "total_campaign_2 = len(campaign_2_user_ids)\n",
    "\n",
    "start_date_campaign_1 = campaign_1_first_event['first_event_datetime'].min()\n",
    "start_date_campaign_2 = campaign_2_first_event['first_event_datetime'].min()\n",
    "\n",
    "\n",
    "df = pd.DataFrame({\n",
    "    'ads_campaign': ['Company 1', 'Company 1', 'Company 1', 'Company 2', 'Company 2', 'Company 2'],\n",
    "    'start_date': [start_date_campaign_1, start_date_campaign_1, start_date_campaign_1, start_date_campaign_2, start_date_campaign_2, start_date_campaign_2],\n",
    "    'day_number': [0, 1, 7, 0, 1, 7],\n",
    "    'retention': [\n",
    "        round(campaign_1_retention_day_zero['campaign_1_retention_day_zero'].values[0] / total_campaign_1, 2),\n",
    "        round(campaign_1_retention_day_one['campaign_1_retention_day_one'].values[0] / total_campaign_1, 2),\n",
    "        round(campaign_1_retention_day_seven['campaign_1_retention_day_seven'].values[0] / total_campaign_1, 2),\n",
    "        round(campaign_2_retention_day_zero['campaign_2_retention_day_zero'].values[0] / total_campaign_2, 2),\n",
    "        round(campaign_2_retention_day_one['campaign_2_retention_day_one'].values[0] / total_campaign_2, 2),\n",
    "        round(campaign_2_retention_day_seven['campaign_2_retention_day_seven'].values[0] / total_campaign_2, 2)\n",
    "    ]\n",
    "})\n",
    "df = df.sort_values(by=['ads_campaign', 'day_number'])\n",
    "df"
   ],
   "metadata": {
    "collapsed": false
   }
  },
  {
   "cell_type": "markdown",
   "source": [
    "Зберегти результат у CSV:"
   ],
   "metadata": {
    "collapsed": false
   }
  },
  {
   "cell_type": "code",
   "execution_count": 137,
   "outputs": [],
   "source": [
    "campaign_1_df = df[df['ads_campaign'] == 'Company 1']\n",
    "campaign_2_df = df[df['ads_campaign'] == 'Company 2']\n",
    "\n",
    "campaign_1_df.to_csv('problem_2_output/result_1.csv', index=False)\n",
    "campaign_2_df.to_csv('problem_2_output/result_2.csv', index=False)"
   ],
   "metadata": {
    "collapsed": false
   }
  },
  {
   "cell_type": "code",
   "execution_count": 137,
   "outputs": [],
   "source": [],
   "metadata": {
    "collapsed": false
   }
  },
  {
   "cell_type": "markdown",
   "source": [],
   "metadata": {
    "collapsed": false
   }
  }
 ],
 "metadata": {
  "kernelspec": {
   "display_name": "Python 3",
   "language": "python",
   "name": "python3"
  },
  "language_info": {
   "codemirror_mode": {
    "name": "ipython",
    "version": 2
   },
   "file_extension": ".py",
   "mimetype": "text/x-python",
   "name": "python",
   "nbconvert_exporter": "python",
   "pygments_lexer": "ipython2",
   "version": "2.7.6"
  }
 },
 "nbformat": 4,
 "nbformat_minor": 0
}
