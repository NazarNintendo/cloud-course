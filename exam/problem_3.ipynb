{
 "cells": [
  {
   "cell_type": "code",
   "execution_count": null,
   "metadata": {
    "collapsed": true,
    "pycharm": {
     "is_executing": true
    }
   },
   "outputs": [],
   "source": [
    "CREATE MODEL `exam.model`\n",
    "OPTIONS(model_type='RANDOM_FOREST_CLASSIFIER') AS\n",
    "SELECT\n",
    "IF(stars >= 4.5, 1, 0) AS label,\n",
    "IFNULL(review_count, 0) AS review_count,\n",
    "...\n",
    "FROM `nk-cloud-course-iav-21.exam.train`"
   ]
  },
  {
   "cell_type": "markdown",
   "source": [
    "Не вистачило часу закінчити."
   ],
   "metadata": {
    "collapsed": false
   }
  }
 ],
 "metadata": {
  "kernelspec": {
   "display_name": "Python 3",
   "language": "python",
   "name": "python3"
  },
  "language_info": {
   "codemirror_mode": {
    "name": "ipython",
    "version": 2
   },
   "file_extension": ".py",
   "mimetype": "text/x-python",
   "name": "python",
   "nbconvert_exporter": "python",
   "pygments_lexer": "ipython2",
   "version": "2.7.6"
  }
 },
 "nbformat": 4,
 "nbformat_minor": 0
}
