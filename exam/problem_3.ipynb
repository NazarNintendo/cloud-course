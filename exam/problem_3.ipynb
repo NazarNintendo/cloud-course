{
 "cells": [
  {
   "cell_type": "code",
   "execution_count": 5,
   "metadata": {
    "collapsed": true
   },
   "outputs": [
    {
     "data": {
      "text/plain": "              business_id                     name  \\\n0  FgH-1fvKFIfISD5kbyz-Wg        Cheloulou Kuizine   \n1  B8l30zq20_VWQr2r5qqTYA        Captured Beer Bus   \n2  V7C7J8uqcY8E9edl-Op2sQ        Sasquatch Brewery   \n3  vAbsbtE1moiqvvEbwji38A  Brother's Wings & Bings   \n4  6YYu1SFIgFzfOjxsWyGbFw                Pizza Hut   \n\n                         address      city state  postal_code   latitude  \\\n0              10125 SE Stark St  Portland    OR        97216  45.519299   \n1                113 SE 28th Ave  Portland    OR        97202  45.521791   \n2            6440 SW Capitol Hwy  Portland    OR        97239  45.477645   \n3  4708 NW Bethany Blvd, Ste E-7  Portland    OR        97229  45.554193   \n4               7405 Barbur Blvd  Portland    OR        97219  45.471774   \n\n    longitude  stars  review_count  ...  attributes.AgesAllowed  \\\n0 -122.559824    5.0             9  ...                     NaN   \n1 -122.637575    4.5            48  ...                     NaN   \n2 -122.698866    3.5           431  ...                     NaN   \n3 -122.835972    3.0            28  ...                     NaN   \n4 -122.685894    2.0            31  ...                     NaN   \n\n  attributes.DietaryRestrictions attributes.Open24Hours hours.Monday  \\\n0                            NaN                    NaN          NaN   \n1                            NaN                    NaN    12:0-22:0   \n2                            NaN                    NaN      0:0-0:0   \n3                            NaN                    NaN   11:30-21:0   \n4                            NaN                    NaN    10:30-0:0   \n\n  hours.Tuesday hours.Wednesday hours.Thursday hours.Friday hours.Saturday  \\\n0           NaN             NaN            NaN          NaN            NaN   \n1     12:0-22:0       12:0-22:0      12:0-22:0    12:0-22:0      12:0-22:0   \n2           NaN       15:0-20:0      15:0-20:0    12:0-20:0      12:0-20:0   \n3    11:30-21:0      11:30-21:0     11:30-21:0  11:30-21:30    11:30-21:30   \n4     10:30-0:0       10:30-0:0      10:30-0:0    10:30-1:0      10:30-1:0   \n\n  hours.Sunday  \n0          NaN  \n1    12:0-22:0  \n2    12:0-20:0  \n3   11:30-21:0  \n4    10:30-0:0  \n\n[5 rows x 58 columns]",
      "text/html": "<div>\n<style scoped>\n    .dataframe tbody tr th:only-of-type {\n        vertical-align: middle;\n    }\n\n    .dataframe tbody tr th {\n        vertical-align: top;\n    }\n\n    .dataframe thead th {\n        text-align: right;\n    }\n</style>\n<table border=\"1\" class=\"dataframe\">\n  <thead>\n    <tr style=\"text-align: right;\">\n      <th></th>\n      <th>business_id</th>\n      <th>name</th>\n      <th>address</th>\n      <th>city</th>\n      <th>state</th>\n      <th>postal_code</th>\n      <th>latitude</th>\n      <th>longitude</th>\n      <th>stars</th>\n      <th>review_count</th>\n      <th>...</th>\n      <th>attributes.AgesAllowed</th>\n      <th>attributes.DietaryRestrictions</th>\n      <th>attributes.Open24Hours</th>\n      <th>hours.Monday</th>\n      <th>hours.Tuesday</th>\n      <th>hours.Wednesday</th>\n      <th>hours.Thursday</th>\n      <th>hours.Friday</th>\n      <th>hours.Saturday</th>\n      <th>hours.Sunday</th>\n    </tr>\n  </thead>\n  <tbody>\n    <tr>\n      <th>0</th>\n      <td>FgH-1fvKFIfISD5kbyz-Wg</td>\n      <td>Cheloulou Kuizine</td>\n      <td>10125 SE Stark St</td>\n      <td>Portland</td>\n      <td>OR</td>\n      <td>97216</td>\n      <td>45.519299</td>\n      <td>-122.559824</td>\n      <td>5.0</td>\n      <td>9</td>\n      <td>...</td>\n      <td>NaN</td>\n      <td>NaN</td>\n      <td>NaN</td>\n      <td>NaN</td>\n      <td>NaN</td>\n      <td>NaN</td>\n      <td>NaN</td>\n      <td>NaN</td>\n      <td>NaN</td>\n      <td>NaN</td>\n    </tr>\n    <tr>\n      <th>1</th>\n      <td>B8l30zq20_VWQr2r5qqTYA</td>\n      <td>Captured Beer Bus</td>\n      <td>113 SE 28th Ave</td>\n      <td>Portland</td>\n      <td>OR</td>\n      <td>97202</td>\n      <td>45.521791</td>\n      <td>-122.637575</td>\n      <td>4.5</td>\n      <td>48</td>\n      <td>...</td>\n      <td>NaN</td>\n      <td>NaN</td>\n      <td>NaN</td>\n      <td>12:0-22:0</td>\n      <td>12:0-22:0</td>\n      <td>12:0-22:0</td>\n      <td>12:0-22:0</td>\n      <td>12:0-22:0</td>\n      <td>12:0-22:0</td>\n      <td>12:0-22:0</td>\n    </tr>\n    <tr>\n      <th>2</th>\n      <td>V7C7J8uqcY8E9edl-Op2sQ</td>\n      <td>Sasquatch Brewery</td>\n      <td>6440 SW Capitol Hwy</td>\n      <td>Portland</td>\n      <td>OR</td>\n      <td>97239</td>\n      <td>45.477645</td>\n      <td>-122.698866</td>\n      <td>3.5</td>\n      <td>431</td>\n      <td>...</td>\n      <td>NaN</td>\n      <td>NaN</td>\n      <td>NaN</td>\n      <td>0:0-0:0</td>\n      <td>NaN</td>\n      <td>15:0-20:0</td>\n      <td>15:0-20:0</td>\n      <td>12:0-20:0</td>\n      <td>12:0-20:0</td>\n      <td>12:0-20:0</td>\n    </tr>\n    <tr>\n      <th>3</th>\n      <td>vAbsbtE1moiqvvEbwji38A</td>\n      <td>Brother's Wings &amp; Bings</td>\n      <td>4708 NW Bethany Blvd, Ste E-7</td>\n      <td>Portland</td>\n      <td>OR</td>\n      <td>97229</td>\n      <td>45.554193</td>\n      <td>-122.835972</td>\n      <td>3.0</td>\n      <td>28</td>\n      <td>...</td>\n      <td>NaN</td>\n      <td>NaN</td>\n      <td>NaN</td>\n      <td>11:30-21:0</td>\n      <td>11:30-21:0</td>\n      <td>11:30-21:0</td>\n      <td>11:30-21:0</td>\n      <td>11:30-21:30</td>\n      <td>11:30-21:30</td>\n      <td>11:30-21:0</td>\n    </tr>\n    <tr>\n      <th>4</th>\n      <td>6YYu1SFIgFzfOjxsWyGbFw</td>\n      <td>Pizza Hut</td>\n      <td>7405 Barbur Blvd</td>\n      <td>Portland</td>\n      <td>OR</td>\n      <td>97219</td>\n      <td>45.471774</td>\n      <td>-122.685894</td>\n      <td>2.0</td>\n      <td>31</td>\n      <td>...</td>\n      <td>NaN</td>\n      <td>NaN</td>\n      <td>NaN</td>\n      <td>10:30-0:0</td>\n      <td>10:30-0:0</td>\n      <td>10:30-0:0</td>\n      <td>10:30-0:0</td>\n      <td>10:30-1:0</td>\n      <td>10:30-1:0</td>\n      <td>10:30-0:0</td>\n    </tr>\n  </tbody>\n</table>\n<p>5 rows × 58 columns</p>\n</div>"
     },
     "execution_count": 5,
     "metadata": {},
     "output_type": "execute_result"
    }
   ],
   "source": [
    "import pandas as pd\n",
    "\n",
    "train_df = pd.read_csv('problem_3_data/train.csv')\n",
    "train_df.head()"
   ]
  },
  {
   "cell_type": "code",
   "execution_count": 6,
   "outputs": [
    {
     "name": "stdout",
     "output_type": "stream",
     "text": [
      "<class 'pandas.core.frame.DataFrame'>\n",
      "RangeIndex: 4000 entries, 0 to 3999\n",
      "Data columns (total 58 columns):\n",
      " #   Column                                 Non-Null Count  Dtype  \n",
      "---  ------                                 --------------  -----  \n",
      " 0   business_id                            4000 non-null   object \n",
      " 1   name                                   4000 non-null   object \n",
      " 2   address                                3970 non-null   object \n",
      " 3   city                                   4000 non-null   object \n",
      " 4   state                                  4000 non-null   object \n",
      " 5   postal_code                            4000 non-null   int64  \n",
      " 6   latitude                               4000 non-null   float64\n",
      " 7   longitude                              4000 non-null   float64\n",
      " 8   stars                                  4000 non-null   float64\n",
      " 9   review_count                           4000 non-null   int64  \n",
      " 10  is_open                                4000 non-null   int64  \n",
      " 11  categories                             4000 non-null   object \n",
      " 12  attributes.RestaurantsTableService     1583 non-null   object \n",
      " 13  attributes.WiFi                        3130 non-null   object \n",
      " 14  attributes.BikeParking                 2841 non-null   object \n",
      " 15  attributes.BusinessParking             3637 non-null   object \n",
      " 16  attributes.BusinessAcceptsCreditCards  3785 non-null   object \n",
      " 17  attributes.RestaurantsReservations     3471 non-null   object \n",
      " 18  attributes.WheelchairAccessible        1252 non-null   object \n",
      " 19  attributes.Caters                      2800 non-null   object \n",
      " 20  attributes.OutdoorSeating              3425 non-null   object \n",
      " 21  attributes.RestaurantsGoodForGroups    3351 non-null   object \n",
      " 22  attributes.HappyHour                   1425 non-null   object \n",
      " 23  attributes.BusinessAcceptsBitcoin      733 non-null    object \n",
      " 24  attributes.RestaurantsPriceRange2      3562 non-null   float64\n",
      " 25  attributes.Ambience                    3192 non-null   object \n",
      " 26  attributes.HasTV                       3288 non-null   object \n",
      " 27  attributes.Alcohol                     3357 non-null   object \n",
      " 28  attributes.GoodForMeal                 2182 non-null   object \n",
      " 29  attributes.DogsAllowed                 1068 non-null   object \n",
      " 30  attributes.RestaurantsTakeOut          3672 non-null   object \n",
      " 31  attributes.NoiseLevel                  2876 non-null   object \n",
      " 32  attributes.RestaurantsAttire           3206 non-null   object \n",
      " 33  attributes.RestaurantsDelivery         3442 non-null   object \n",
      " 34  attributes.GoodForKids                 3317 non-null   object \n",
      " 35  attributes.ByAppointmentOnly           364 non-null    object \n",
      " 36  attributes.AcceptsInsurance            0 non-null      float64\n",
      " 37  attributes.HairSpecializesIn           0 non-null      float64\n",
      " 38  attributes.GoodForDancing              387 non-null    object \n",
      " 39  attributes.BestNights                  442 non-null    object \n",
      " 40  attributes.Music                       543 non-null    object \n",
      " 41  attributes.BYOB                        348 non-null    object \n",
      " 42  attributes.CoatCheck                   383 non-null    object \n",
      " 43  attributes.Smoking                     354 non-null    object \n",
      " 44  attributes.DriveThru                   250 non-null    object \n",
      " 45  attributes.BYOBCorkage                 284 non-null    object \n",
      " 46  attributes.Corkage                     374 non-null    object \n",
      " 47  attributes.RestaurantsCounterService   1 non-null      object \n",
      " 48  attributes.AgesAllowed                 0 non-null      float64\n",
      " 49  attributes.DietaryRestrictions         7 non-null      object \n",
      " 50  attributes.Open24Hours                 5 non-null      object \n",
      " 51  hours.Monday                           2883 non-null   object \n",
      " 52  hours.Tuesday                          2986 non-null   object \n",
      " 53  hours.Wednesday                        3225 non-null   object \n",
      " 54  hours.Thursday                         3325 non-null   object \n",
      " 55  hours.Friday                           3355 non-null   object \n",
      " 56  hours.Saturday                         3135 non-null   object \n",
      " 57  hours.Sunday                           2632 non-null   object \n",
      "dtypes: float64(7), int64(3), object(48)\n",
      "memory usage: 1.8+ MB\n"
     ]
    }
   ],
   "source": [
    "train_df.info()"
   ],
   "metadata": {
    "collapsed": false
   }
  },
  {
   "cell_type": "markdown",
   "source": [
    "Для простоти візьмемо stars за пояснювану змінну, review_count, wifi та good_for_kids за ознаки."
   ],
   "metadata": {
    "collapsed": false
   }
  },
  {
   "cell_type": "code",
   "execution_count": null,
   "outputs": [],
   "source": [
    "CREATE MODEL `exam.model`\n",
    "OPTIONS(model_type='RANDOM_FOREST_CLASSIFIER') AS\n",
    "SELECT\n",
    "IF(stars >= 4.5, 1, 0) AS label,\n",
    "IFNULL(review_count, 0) AS review_count,\n",
    "IFNULL(attributes_WiFi , 'no') AS wifi,\n",
    "IFNULL(attributes_GoodForKids , 'FALSE') AS good_for_kids,\n",
    "FROM `nk-cloud-course-iav-21.exam.train`"
   ],
   "metadata": {
    "collapsed": false
   }
  },
  {
   "cell_type": "markdown",
   "source": [
    "Model type\n",
    "RANDOM_FOREST_CLASSIFIER\n",
    "Data location\n",
    "US\n",
    "Model Details\n",
    "Model ID\n",
    "nk-cloud-course-iav-21.exam.model\n",
    "Description\n",
    "Date created\n",
    "Apr 22, 2024, 5:06:33 PM UTC+3\n",
    "Model expiration\n",
    "Jun 21, 2024, 5:06:33 PM UTC+3\n",
    "Date modified\n",
    "Apr 22, 2024, 5:06:43 PM UTC+3\n",
    "Data location\n",
    "US\n",
    "Model type\n",
    "RANDOM_FOREST_CLASSIFIER\n",
    "Minimum Split Loss\n",
    "0\n",
    "Maximum Tree Depth\n",
    "15\n",
    "Subsample\n",
    "0.8\n",
    "Training data\n",
    "Evaluation data\n",
    "Training Options\n",
    "Training options are the optional parameters that were added in the script to create this model.\n",
    "\n",
    "Actual iterations\n",
    "1\n",
    "L1 regularization\n",
    "0.00\n",
    "L2 regularization\n",
    "1.00\n",
    "Early stop\n",
    "true\n",
    "Min relative progress\n",
    "0.01\n",
    "Data split method\n",
    "Auto"
   ],
   "metadata": {
    "collapsed": false
   }
  }
 ],
 "metadata": {
  "kernelspec": {
   "display_name": "Python 3",
   "language": "python",
   "name": "python3"
  },
  "language_info": {
   "codemirror_mode": {
    "name": "ipython",
    "version": 2
   },
   "file_extension": ".py",
   "mimetype": "text/x-python",
   "name": "python",
   "nbconvert_exporter": "python",
   "pygments_lexer": "ipython2",
   "version": "2.7.6"
  }
 },
 "nbformat": 4,
 "nbformat_minor": 0
}
